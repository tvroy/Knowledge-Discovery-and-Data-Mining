{
 "cells": [
  {
   "cell_type": "code",
   "execution_count": null,
   "metadata": {},
   "outputs": [],
   "source": [
    "import re\n",
    "import nltk\n",
    "from nltk.tokenize import RegexpTokenizer\n",
    "from collections import Counter\n",
    "\n",
    "#open text file in read mode\n",
    "file = open(\"hamlet_act1.txt\", \"r\")\n",
    "\n",
    "#read file to a string\n",
    "hamlet = file.read()\n",
    "\n",
    "file.close()\n",
    " \n",
    "print(hamlet)"
   ]
  },
  {
   "cell_type": "code",
   "execution_count": null,
   "metadata": {},
   "outputs": [],
   "source": [
    "#use regex to isolate each sentence\n",
    "parsed = re.findall(r\"\"\"(?<![A-Z[])[A-Z'][A-Z]?[^A-Z][A-Za-z\\s\\n,();:'\"-]*[.!?-](?!])\"\"\", hamlet)\n",
    "\n",
    "print(\"There are\", len(parsed), \"sentences in this list.\")\n",
    "\n",
    "parsed"
   ]
  },
  {
   "cell_type": "code",
   "execution_count": null,
   "metadata": {},
   "outputs": [],
   "source": [
    "#tokenize each sentence\n",
    "tokens = []\n",
    "#I used this tokenizer because it kept the contractions in tact.\n",
    "tk = RegexpTokenizer(r\"[\\w']+\")\n",
    "\n",
    "for s in parsed:\n",
    "    tokens.append(tk.tokenize(s))\n",
    "\n",
    "tokens"
   ]
  },
  {
   "cell_type": "code",
   "execution_count": null,
   "metadata": {},
   "outputs": [],
   "source": [
    "#add bigrams from each sentence to a list of lists.\n",
    "bigrams = []\n",
    "for s in tokens:\n",
    "    bigrams.append(list(nltk.bigrams(s)))\n",
    "\n",
    "bigrams"
   ]
  },
  {
   "cell_type": "code",
   "execution_count": null,
   "metadata": {},
   "outputs": [],
   "source": [
    "#tag each word within each bigram with a part of speech\n",
    "tags = []\n",
    "for r in bigrams:\n",
    "    for b in r:\n",
    "        tags.append(nltk.pos_tag(b))\n",
    "\n",
    "tags"
   ]
  },
  {
   "cell_type": "code",
   "execution_count": null,
   "metadata": {},
   "outputs": [],
   "source": [
    "#identify bigrams with a noun or pronoun followed by a verb\n",
    "n_v_bigrams = []\n",
    "\n",
    "for t in tags:\n",
    "    #use regex to match noun and pronoun pos tags\n",
    "    x = re.findall(r'[PN][NR].?.?', t[0][1])\n",
    "    #use regex to match verb pos tags\n",
    "    y = re.findall(r'VB.?', t[1][1])\n",
    "    #add bigrams with a noun or pronoun followed by a verb to a list\n",
    "    if len(x) == 1 and len(y) == 1:\n",
    "        n_v_bigrams.append([t[0][0], t[1][0]])\n",
    "\n",
    "#print(len(n_v_bigrams))\n",
    "n_v_bigrams"
   ]
  },
  {
   "cell_type": "code",
   "execution_count": null,
   "metadata": {},
   "outputs": [],
   "source": [
    "#convert list of lists to tuple so I can use counter function\n",
    "t = map(tuple,n_v_bigrams)\n",
    "\n",
    "#Put all the words in lower case to ensure proper count of bigrams\n",
    "t = [(x.lower(), y.lower()) for x,y in t]\n",
    "c = Counter(t)\n",
    "\n",
    "c.most_common(20)"
   ]
  },
  {
   "cell_type": "code",
   "execution_count": null,
   "metadata": {},
   "outputs": [],
   "source": [
    "x = c.most_common()\n",
    "\n",
    "#function to return length of list containing the 10 most common bigrams, i.e. to determine if number 10 has any ties for frequency\n",
    "def common(x):\n",
    "    i = 10\n",
    "    while i in range(10 ,len(x)):\n",
    "        if x[i][1] == x[9][1]:\n",
    "            i+=1\n",
    "        else:\n",
    "            return i\n",
    "\n",
    "n = common(x)\n",
    "#bigrams with the 10 highest frequencies\n",
    "most_common = c.most_common(n)\n",
    "most_common\n"
   ]
  },
  {
   "cell_type": "code",
   "execution_count": null,
   "metadata": {},
   "outputs": [],
   "source": [
    "#write top bigrams to .txt file\n",
    "f = open('bigrams.txt', 'w')\n",
    "for t in most_common:\n",
    "    line = ' '.join(str(x) for x in t)\n",
    "    f.write(line + '\\n')\n",
    "f.close()"
   ]
  },
  {
   "cell_type": "markdown",
   "metadata": {},
   "source": []
  }
 ],
 "metadata": {
  "kernelspec": {
   "display_name": "Python 3.9.7 ('base')",
   "language": "python",
   "name": "python3"
  },
  "language_info": {
   "codemirror_mode": {
    "name": "ipython",
    "version": 3
   },
   "file_extension": ".py",
   "mimetype": "text/x-python",
   "name": "python",
   "nbconvert_exporter": "python",
   "pygments_lexer": "ipython3",
   "version": "3.9.7"
  },
  "orig_nbformat": 4,
  "vscode": {
   "interpreter": {
    "hash": "581bdb10a1965225ca65b435fc2b7141bd35840826ebb746b28d64fc969da54c"
   }
  }
 },
 "nbformat": 4,
 "nbformat_minor": 2
}
